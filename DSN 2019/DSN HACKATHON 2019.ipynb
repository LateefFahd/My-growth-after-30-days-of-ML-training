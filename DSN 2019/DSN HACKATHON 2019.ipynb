{
 "cells": [
  {
   "cell_type": "code",
   "execution_count": 1,
   "id": "36839a55",
   "metadata": {},
   "outputs": [],
   "source": [
    "import pandas as pd\n",
    "import numpy as np\n",
    "import matplotlib.pyplot as plt\n",
    "import seaborn as sns\n",
    "\n",
    "from sklearn import metrics\n",
    "from sklearn.model_selection import train_test_split\n",
    "\n",
    "from sklearn.preprocessing import LabelEncoder\n",
    "from sklearn.preprocessing import LabelBinarizer\n",
    "labE = LabelEncoder()\n",
    "labB = LabelBinarizer()"
   ]
  },
  {
   "cell_type": "code",
   "execution_count": 2,
   "id": "3e2206de",
   "metadata": {},
   "outputs": [],
   "source": [
    "train = pd.read_csv('train_data.csv')  \n",
    "test = pd.read_csv('test_data.csv')\n",
    "ss = pd.read_csv('SampleSubmission1.csv')\n",
    "var = pd.read_csv('VariableDescription.csv')"
   ]
  },
  {
   "cell_type": "code",
   "execution_count": 3,
   "id": "5118bf74",
   "metadata": {},
   "outputs": [
    {
     "data": {
      "text/html": [
       "<div>\n",
       "<style scoped>\n",
       "    .dataframe tbody tr th:only-of-type {\n",
       "        vertical-align: middle;\n",
       "    }\n",
       "\n",
       "    .dataframe tbody tr th {\n",
       "        vertical-align: top;\n",
       "    }\n",
       "\n",
       "    .dataframe thead th {\n",
       "        text-align: right;\n",
       "    }\n",
       "</style>\n",
       "<table border=\"1\" class=\"dataframe\">\n",
       "  <thead>\n",
       "    <tr style=\"text-align: right;\">\n",
       "      <th></th>\n",
       "      <th>Customer Id</th>\n",
       "      <th>YearOfObservation</th>\n",
       "      <th>Insured_Period</th>\n",
       "      <th>Residential</th>\n",
       "      <th>Building_Painted</th>\n",
       "      <th>Building_Fenced</th>\n",
       "      <th>Garden</th>\n",
       "      <th>Settlement</th>\n",
       "      <th>Building Dimension</th>\n",
       "      <th>Building_Type</th>\n",
       "      <th>Date_of_Occupancy</th>\n",
       "      <th>NumberOfWindows</th>\n",
       "      <th>Geo_Code</th>\n",
       "      <th>Claim</th>\n",
       "    </tr>\n",
       "  </thead>\n",
       "  <tbody>\n",
       "    <tr>\n",
       "      <th>0</th>\n",
       "      <td>H14663</td>\n",
       "      <td>2013</td>\n",
       "      <td>1.0</td>\n",
       "      <td>0</td>\n",
       "      <td>N</td>\n",
       "      <td>V</td>\n",
       "      <td>V</td>\n",
       "      <td>U</td>\n",
       "      <td>290.0</td>\n",
       "      <td>1</td>\n",
       "      <td>1960.0</td>\n",
       "      <td>.</td>\n",
       "      <td>1053</td>\n",
       "      <td>0</td>\n",
       "    </tr>\n",
       "    <tr>\n",
       "      <th>1</th>\n",
       "      <td>H2037</td>\n",
       "      <td>2015</td>\n",
       "      <td>1.0</td>\n",
       "      <td>0</td>\n",
       "      <td>V</td>\n",
       "      <td>N</td>\n",
       "      <td>O</td>\n",
       "      <td>R</td>\n",
       "      <td>490.0</td>\n",
       "      <td>1</td>\n",
       "      <td>1850.0</td>\n",
       "      <td>4</td>\n",
       "      <td>1053</td>\n",
       "      <td>0</td>\n",
       "    </tr>\n",
       "    <tr>\n",
       "      <th>2</th>\n",
       "      <td>H3802</td>\n",
       "      <td>2014</td>\n",
       "      <td>1.0</td>\n",
       "      <td>0</td>\n",
       "      <td>N</td>\n",
       "      <td>V</td>\n",
       "      <td>V</td>\n",
       "      <td>U</td>\n",
       "      <td>595.0</td>\n",
       "      <td>1</td>\n",
       "      <td>1960.0</td>\n",
       "      <td>.</td>\n",
       "      <td>1053</td>\n",
       "      <td>0</td>\n",
       "    </tr>\n",
       "    <tr>\n",
       "      <th>3</th>\n",
       "      <td>H3834</td>\n",
       "      <td>2013</td>\n",
       "      <td>1.0</td>\n",
       "      <td>0</td>\n",
       "      <td>V</td>\n",
       "      <td>V</td>\n",
       "      <td>V</td>\n",
       "      <td>U</td>\n",
       "      <td>2840.0</td>\n",
       "      <td>1</td>\n",
       "      <td>1960.0</td>\n",
       "      <td>.</td>\n",
       "      <td>1053</td>\n",
       "      <td>0</td>\n",
       "    </tr>\n",
       "    <tr>\n",
       "      <th>4</th>\n",
       "      <td>H5053</td>\n",
       "      <td>2014</td>\n",
       "      <td>1.0</td>\n",
       "      <td>0</td>\n",
       "      <td>V</td>\n",
       "      <td>N</td>\n",
       "      <td>O</td>\n",
       "      <td>R</td>\n",
       "      <td>680.0</td>\n",
       "      <td>1</td>\n",
       "      <td>1800.0</td>\n",
       "      <td>3</td>\n",
       "      <td>1053</td>\n",
       "      <td>0</td>\n",
       "    </tr>\n",
       "  </tbody>\n",
       "</table>\n",
       "</div>"
      ],
      "text/plain": [
       "  Customer Id  YearOfObservation  Insured_Period  Residential  \\\n",
       "0      H14663               2013             1.0            0   \n",
       "1       H2037               2015             1.0            0   \n",
       "2       H3802               2014             1.0            0   \n",
       "3       H3834               2013             1.0            0   \n",
       "4       H5053               2014             1.0            0   \n",
       "\n",
       "  Building_Painted Building_Fenced Garden Settlement  Building Dimension  \\\n",
       "0                N               V      V          U               290.0   \n",
       "1                V               N      O          R               490.0   \n",
       "2                N               V      V          U               595.0   \n",
       "3                V               V      V          U              2840.0   \n",
       "4                V               N      O          R               680.0   \n",
       "\n",
       "   Building_Type  Date_of_Occupancy NumberOfWindows Geo_Code  Claim  \n",
       "0              1             1960.0               .     1053      0  \n",
       "1              1             1850.0               4     1053      0  \n",
       "2              1             1960.0               .     1053      0  \n",
       "3              1             1960.0               .     1053      0  \n",
       "4              1             1800.0               3     1053      0  "
      ]
     },
     "execution_count": 3,
     "metadata": {},
     "output_type": "execute_result"
    }
   ],
   "source": [
    "train.head()"
   ]
  },
  {
   "cell_type": "code",
   "execution_count": 4,
   "id": "4c9aeaf7",
   "metadata": {},
   "outputs": [
    {
     "data": {
      "text/html": [
       "<div>\n",
       "<style scoped>\n",
       "    .dataframe tbody tr th:only-of-type {\n",
       "        vertical-align: middle;\n",
       "    }\n",
       "\n",
       "    .dataframe tbody tr th {\n",
       "        vertical-align: top;\n",
       "    }\n",
       "\n",
       "    .dataframe thead th {\n",
       "        text-align: right;\n",
       "    }\n",
       "</style>\n",
       "<table border=\"1\" class=\"dataframe\">\n",
       "  <thead>\n",
       "    <tr style=\"text-align: right;\">\n",
       "      <th></th>\n",
       "      <th>Customer Id</th>\n",
       "      <th>YearOfObservation</th>\n",
       "      <th>Insured_Period</th>\n",
       "      <th>Residential</th>\n",
       "      <th>Building_Painted</th>\n",
       "      <th>Building_Fenced</th>\n",
       "      <th>Garden</th>\n",
       "      <th>Settlement</th>\n",
       "      <th>Building Dimension</th>\n",
       "      <th>Building_Type</th>\n",
       "      <th>Date_of_Occupancy</th>\n",
       "      <th>NumberOfWindows</th>\n",
       "      <th>Geo_Code</th>\n",
       "    </tr>\n",
       "  </thead>\n",
       "  <tbody>\n",
       "    <tr>\n",
       "      <th>0</th>\n",
       "      <td>H11920</td>\n",
       "      <td>2013</td>\n",
       "      <td>1.000000</td>\n",
       "      <td>0</td>\n",
       "      <td>V</td>\n",
       "      <td>N</td>\n",
       "      <td>O</td>\n",
       "      <td>R</td>\n",
       "      <td>300.0</td>\n",
       "      <td>1</td>\n",
       "      <td>1960.0</td>\n",
       "      <td>3</td>\n",
       "      <td>3310</td>\n",
       "    </tr>\n",
       "    <tr>\n",
       "      <th>1</th>\n",
       "      <td>H11921</td>\n",
       "      <td>2016</td>\n",
       "      <td>0.997268</td>\n",
       "      <td>0</td>\n",
       "      <td>V</td>\n",
       "      <td>N</td>\n",
       "      <td>O</td>\n",
       "      <td>R</td>\n",
       "      <td>300.0</td>\n",
       "      <td>1</td>\n",
       "      <td>1960.0</td>\n",
       "      <td>3</td>\n",
       "      <td>3310</td>\n",
       "    </tr>\n",
       "    <tr>\n",
       "      <th>2</th>\n",
       "      <td>H9805</td>\n",
       "      <td>2013</td>\n",
       "      <td>0.369863</td>\n",
       "      <td>0</td>\n",
       "      <td>V</td>\n",
       "      <td>V</td>\n",
       "      <td>V</td>\n",
       "      <td>U</td>\n",
       "      <td>790.0</td>\n",
       "      <td>1</td>\n",
       "      <td>1960.0</td>\n",
       "      <td>.</td>\n",
       "      <td>3310</td>\n",
       "    </tr>\n",
       "    <tr>\n",
       "      <th>3</th>\n",
       "      <td>H7493</td>\n",
       "      <td>2014</td>\n",
       "      <td>1.000000</td>\n",
       "      <td>0</td>\n",
       "      <td>V</td>\n",
       "      <td>N</td>\n",
       "      <td>O</td>\n",
       "      <td>R</td>\n",
       "      <td>1405.0</td>\n",
       "      <td>1</td>\n",
       "      <td>2004.0</td>\n",
       "      <td>3</td>\n",
       "      <td>3321</td>\n",
       "    </tr>\n",
       "    <tr>\n",
       "      <th>4</th>\n",
       "      <td>H7494</td>\n",
       "      <td>2016</td>\n",
       "      <td>1.000000</td>\n",
       "      <td>0</td>\n",
       "      <td>V</td>\n",
       "      <td>N</td>\n",
       "      <td>O</td>\n",
       "      <td>R</td>\n",
       "      <td>1405.0</td>\n",
       "      <td>1</td>\n",
       "      <td>2004.0</td>\n",
       "      <td>3</td>\n",
       "      <td>3321</td>\n",
       "    </tr>\n",
       "  </tbody>\n",
       "</table>\n",
       "</div>"
      ],
      "text/plain": [
       "  Customer Id  YearOfObservation  Insured_Period  Residential  \\\n",
       "0      H11920               2013        1.000000            0   \n",
       "1      H11921               2016        0.997268            0   \n",
       "2       H9805               2013        0.369863            0   \n",
       "3       H7493               2014        1.000000            0   \n",
       "4       H7494               2016        1.000000            0   \n",
       "\n",
       "  Building_Painted Building_Fenced Garden Settlement  Building Dimension  \\\n",
       "0                V               N      O          R               300.0   \n",
       "1                V               N      O          R               300.0   \n",
       "2                V               V      V          U               790.0   \n",
       "3                V               N      O          R              1405.0   \n",
       "4                V               N      O          R              1405.0   \n",
       "\n",
       "   Building_Type  Date_of_Occupancy NumberOfWindows Geo_Code  \n",
       "0              1             1960.0               3     3310  \n",
       "1              1             1960.0               3     3310  \n",
       "2              1             1960.0               .     3310  \n",
       "3              1             2004.0               3     3321  \n",
       "4              1             2004.0               3     3321  "
      ]
     },
     "execution_count": 4,
     "metadata": {},
     "output_type": "execute_result"
    }
   ],
   "source": [
    "test.head()"
   ]
  },
  {
   "cell_type": "code",
   "execution_count": 5,
   "id": "8461e6c0",
   "metadata": {
    "scrolled": true
   },
   "outputs": [
    {
     "data": {
      "text/html": [
       "<div>\n",
       "<style scoped>\n",
       "    .dataframe tbody tr th:only-of-type {\n",
       "        vertical-align: middle;\n",
       "    }\n",
       "\n",
       "    .dataframe tbody tr th {\n",
       "        vertical-align: top;\n",
       "    }\n",
       "\n",
       "    .dataframe thead th {\n",
       "        text-align: right;\n",
       "    }\n",
       "</style>\n",
       "<table border=\"1\" class=\"dataframe\">\n",
       "  <thead>\n",
       "    <tr style=\"text-align: right;\">\n",
       "      <th></th>\n",
       "      <th>Customer Id</th>\n",
       "      <th>Claim</th>\n",
       "    </tr>\n",
       "  </thead>\n",
       "  <tbody>\n",
       "    <tr>\n",
       "      <th>0</th>\n",
       "      <td>H0</td>\n",
       "      <td>1</td>\n",
       "    </tr>\n",
       "    <tr>\n",
       "      <th>1</th>\n",
       "      <td>H10000</td>\n",
       "      <td>1</td>\n",
       "    </tr>\n",
       "    <tr>\n",
       "      <th>2</th>\n",
       "      <td>H10001</td>\n",
       "      <td>1</td>\n",
       "    </tr>\n",
       "    <tr>\n",
       "      <th>3</th>\n",
       "      <td>H10002</td>\n",
       "      <td>1</td>\n",
       "    </tr>\n",
       "    <tr>\n",
       "      <th>4</th>\n",
       "      <td>H10003</td>\n",
       "      <td>1</td>\n",
       "    </tr>\n",
       "  </tbody>\n",
       "</table>\n",
       "</div>"
      ],
      "text/plain": [
       "  Customer Id  Claim\n",
       "0          H0      1\n",
       "1      H10000      1\n",
       "2      H10001      1\n",
       "3      H10002      1\n",
       "4      H10003      1"
      ]
     },
     "execution_count": 5,
     "metadata": {},
     "output_type": "execute_result"
    }
   ],
   "source": [
    "ss.head()"
   ]
  },
  {
   "cell_type": "code",
   "execution_count": 6,
   "id": "b80b3bdd",
   "metadata": {},
   "outputs": [
    {
     "data": {
      "text/plain": [
       "0           Identification number for the Policy holder\n",
       "1            year of observation for the insured policy\n",
       "2     duration of insurance policy in Olusola Insura...\n",
       "3         is the building a residential building or not\n",
       "4     is the building painted or not (N-Painted, V-N...\n",
       "5     is the building fence or not (N-Fenced, V-Not ...\n",
       "6     building has garden or not (V-has garden; O-no...\n",
       "7     Area where the building is located. (R- rural ...\n",
       "8                    Size of the insured building in m2\n",
       "9                The type of building (Type 1, 2, 3, 4)\n",
       "10                     date building was first occupied\n",
       "11                    number of windows in the building\n",
       "12            Geographical Code of the Insured building\n",
       "13    target variable. (0: no claim, 1: at least one...\n",
       "Name: Description, dtype: object"
      ]
     },
     "execution_count": 6,
     "metadata": {},
     "output_type": "execute_result"
    }
   ],
   "source": [
    "var['Description']"
   ]
  },
  {
   "cell_type": "code",
   "execution_count": 7,
   "id": "7067c159",
   "metadata": {},
   "outputs": [],
   "source": [
    "train.drop(['Customer Id', 'Garden'], axis=1, inplace=True)"
   ]
  },
  {
   "cell_type": "code",
   "execution_count": 8,
   "id": "7a3da332",
   "metadata": {},
   "outputs": [
    {
     "name": "stdout",
     "output_type": "stream",
     "text": [
      "<class 'pandas.core.frame.DataFrame'>\n",
      "RangeIndex: 7160 entries, 0 to 7159\n",
      "Data columns (total 12 columns):\n",
      " #   Column              Non-Null Count  Dtype  \n",
      "---  ------              --------------  -----  \n",
      " 0   YearOfObservation   7160 non-null   int64  \n",
      " 1   Insured_Period      7160 non-null   float64\n",
      " 2   Residential         7160 non-null   int64  \n",
      " 3   Building_Painted    7160 non-null   object \n",
      " 4   Building_Fenced     7160 non-null   object \n",
      " 5   Settlement          7160 non-null   object \n",
      " 6   Building Dimension  7054 non-null   float64\n",
      " 7   Building_Type       7160 non-null   int64  \n",
      " 8   Date_of_Occupancy   6652 non-null   float64\n",
      " 9   NumberOfWindows     7160 non-null   object \n",
      " 10  Geo_Code            7058 non-null   object \n",
      " 11  Claim               7160 non-null   int64  \n",
      "dtypes: float64(3), int64(4), object(5)\n",
      "memory usage: 671.4+ KB\n"
     ]
    }
   ],
   "source": [
    "train.info()"
   ]
  },
  {
   "cell_type": "code",
   "execution_count": 9,
   "id": "7529fc73",
   "metadata": {},
   "outputs": [],
   "source": [
    "test.drop(['Customer Id','Garden'], axis = 1, inplace = True)"
   ]
  },
  {
   "cell_type": "code",
   "execution_count": 10,
   "id": "d7dbd10b",
   "metadata": {},
   "outputs": [
    {
     "name": "stdout",
     "output_type": "stream",
     "text": [
      "<class 'pandas.core.frame.DataFrame'>\n",
      "RangeIndex: 3069 entries, 0 to 3068\n",
      "Data columns (total 11 columns):\n",
      " #   Column              Non-Null Count  Dtype  \n",
      "---  ------              --------------  -----  \n",
      " 0   YearOfObservation   3069 non-null   int64  \n",
      " 1   Insured_Period      3069 non-null   float64\n",
      " 2   Residential         3069 non-null   int64  \n",
      " 3   Building_Painted    3069 non-null   object \n",
      " 4   Building_Fenced     3069 non-null   object \n",
      " 5   Settlement          3069 non-null   object \n",
      " 6   Building Dimension  3056 non-null   float64\n",
      " 7   Building_Type       3069 non-null   int64  \n",
      " 8   Date_of_Occupancy   2341 non-null   float64\n",
      " 9   NumberOfWindows     3069 non-null   object \n",
      " 10  Geo_Code            3056 non-null   object \n",
      "dtypes: float64(3), int64(3), object(5)\n",
      "memory usage: 263.9+ KB\n"
     ]
    }
   ],
   "source": [
    "test.info()"
   ]
  },
  {
   "cell_type": "code",
   "execution_count": 11,
   "id": "cc3ea63f",
   "metadata": {},
   "outputs": [
    {
     "data": {
      "text/plain": [
       "YearOfObservation       0\n",
       "Insured_Period          0\n",
       "Residential             0\n",
       "Building_Painted        0\n",
       "Building_Fenced         0\n",
       "Settlement              0\n",
       "Building Dimension    106\n",
       "Building_Type           0\n",
       "Date_of_Occupancy     508\n",
       "NumberOfWindows         0\n",
       "Geo_Code              102\n",
       "Claim                   0\n",
       "dtype: int64"
      ]
     },
     "execution_count": 11,
     "metadata": {},
     "output_type": "execute_result"
    }
   ],
   "source": [
    "train.isnull().sum()"
   ]
  },
  {
   "cell_type": "code",
   "execution_count": 12,
   "id": "0d8acb4b",
   "metadata": {},
   "outputs": [
    {
     "data": {
      "text/plain": [
       "YearOfObservation       0\n",
       "Insured_Period          0\n",
       "Residential             0\n",
       "Building_Painted        0\n",
       "Building_Fenced         0\n",
       "Settlement              0\n",
       "Building Dimension     13\n",
       "Building_Type           0\n",
       "Date_of_Occupancy     728\n",
       "NumberOfWindows         0\n",
       "Geo_Code               13\n",
       "dtype: int64"
      ]
     },
     "execution_count": 12,
     "metadata": {},
     "output_type": "execute_result"
    }
   ],
   "source": [
    "test.isnull().sum()"
   ]
  },
  {
   "cell_type": "code",
   "execution_count": 13,
   "id": "1ef7f28c",
   "metadata": {},
   "outputs": [],
   "source": [
    "# train['Building Dimension'].mean()"
   ]
  },
  {
   "cell_type": "code",
   "execution_count": 14,
   "id": "b918281e",
   "metadata": {},
   "outputs": [],
   "source": [
    "train['Building Dimension'] = train['Building Dimension'].fillna(train['Building Dimension'].mean())"
   ]
  },
  {
   "cell_type": "code",
   "execution_count": 15,
   "id": "7a5bab96",
   "metadata": {},
   "outputs": [],
   "source": [
    "train['Date_of_Occupancy'] = train['Date_of_Occupancy'].fillna(train['Date_of_Occupancy'].mean())"
   ]
  },
  {
   "cell_type": "code",
   "execution_count": 16,
   "id": "2ad13857",
   "metadata": {},
   "outputs": [],
   "source": [
    "train['Geo_Code'] = train['Geo_Code'].fillna(train['Geo_Code'].mode()[0])"
   ]
  },
  {
   "cell_type": "code",
   "execution_count": 17,
   "id": "182a49f5",
   "metadata": {},
   "outputs": [],
   "source": [
    "# train['Garden'] = train['Garden'].fillna(train['Garden'].mode()[0])"
   ]
  },
  {
   "cell_type": "code",
   "execution_count": 18,
   "id": "4e2123d6",
   "metadata": {},
   "outputs": [
    {
     "data": {
      "text/plain": [
       "YearOfObservation     0\n",
       "Insured_Period        0\n",
       "Residential           0\n",
       "Building_Painted      0\n",
       "Building_Fenced       0\n",
       "Settlement            0\n",
       "Building Dimension    0\n",
       "Building_Type         0\n",
       "Date_of_Occupancy     0\n",
       "NumberOfWindows       0\n",
       "Geo_Code              0\n",
       "Claim                 0\n",
       "dtype: int64"
      ]
     },
     "execution_count": 18,
     "metadata": {},
     "output_type": "execute_result"
    }
   ],
   "source": [
    "train.isnull().sum()"
   ]
  },
  {
   "cell_type": "code",
   "execution_count": 19,
   "id": "17bb500b",
   "metadata": {},
   "outputs": [],
   "source": [
    "# test['Garden'] = test['Garden'].fillna(test['Garden'].mode()[0])\n",
    "test['Building Dimension'] = test['Building Dimension'].fillna(test['Building Dimension'].mean())\n",
    "test['Date_of_Occupancy'] = test['Date_of_Occupancy'].fillna(test['Date_of_Occupancy'].mean())\n",
    "test['Geo_Code'] = test['Geo_Code'].fillna(test['Geo_Code'].mode()[0])"
   ]
  },
  {
   "cell_type": "code",
   "execution_count": 20,
   "id": "05520013",
   "metadata": {},
   "outputs": [
    {
     "data": {
      "text/plain": [
       "YearOfObservation     0\n",
       "Insured_Period        0\n",
       "Residential           0\n",
       "Building_Painted      0\n",
       "Building_Fenced       0\n",
       "Settlement            0\n",
       "Building Dimension    0\n",
       "Building_Type         0\n",
       "Date_of_Occupancy     0\n",
       "NumberOfWindows       0\n",
       "Geo_Code              0\n",
       "dtype: int64"
      ]
     },
     "execution_count": 20,
     "metadata": {},
     "output_type": "execute_result"
    }
   ],
   "source": [
    "test.isnull().sum()"
   ]
  },
  {
   "cell_type": "code",
   "execution_count": 21,
   "id": "05085c78",
   "metadata": {},
   "outputs": [
    {
     "name": "stdout",
     "output_type": "stream",
     "text": [
      "<class 'pandas.core.frame.DataFrame'>\n",
      "RangeIndex: 7160 entries, 0 to 7159\n",
      "Data columns (total 12 columns):\n",
      " #   Column              Non-Null Count  Dtype  \n",
      "---  ------              --------------  -----  \n",
      " 0   YearOfObservation   7160 non-null   int64  \n",
      " 1   Insured_Period      7160 non-null   float64\n",
      " 2   Residential         7160 non-null   int64  \n",
      " 3   Building_Painted    7160 non-null   object \n",
      " 4   Building_Fenced     7160 non-null   object \n",
      " 5   Settlement          7160 non-null   object \n",
      " 6   Building Dimension  7160 non-null   float64\n",
      " 7   Building_Type       7160 non-null   int64  \n",
      " 8   Date_of_Occupancy   7160 non-null   float64\n",
      " 9   NumberOfWindows     7160 non-null   object \n",
      " 10  Geo_Code            7160 non-null   object \n",
      " 11  Claim               7160 non-null   int64  \n",
      "dtypes: float64(3), int64(4), object(5)\n",
      "memory usage: 671.4+ KB\n"
     ]
    }
   ],
   "source": [
    "train.info()"
   ]
  },
  {
   "cell_type": "code",
   "execution_count": 22,
   "id": "307b08a8",
   "metadata": {},
   "outputs": [
    {
     "name": "stdout",
     "output_type": "stream",
     "text": [
      "<class 'pandas.core.frame.DataFrame'>\n",
      "RangeIndex: 3069 entries, 0 to 3068\n",
      "Data columns (total 11 columns):\n",
      " #   Column              Non-Null Count  Dtype  \n",
      "---  ------              --------------  -----  \n",
      " 0   YearOfObservation   3069 non-null   int64  \n",
      " 1   Insured_Period      3069 non-null   float64\n",
      " 2   Residential         3069 non-null   int64  \n",
      " 3   Building_Painted    3069 non-null   object \n",
      " 4   Building_Fenced     3069 non-null   object \n",
      " 5   Settlement          3069 non-null   object \n",
      " 6   Building Dimension  3069 non-null   float64\n",
      " 7   Building_Type       3069 non-null   int64  \n",
      " 8   Date_of_Occupancy   3069 non-null   float64\n",
      " 9   NumberOfWindows     3069 non-null   object \n",
      " 10  Geo_Code            3069 non-null   object \n",
      "dtypes: float64(3), int64(3), object(5)\n",
      "memory usage: 263.9+ KB\n"
     ]
    }
   ],
   "source": [
    "test.info()"
   ]
  },
  {
   "cell_type": "markdown",
   "id": "30661f08",
   "metadata": {},
   "source": [
    "# ENCODING DATA"
   ]
  },
  {
   "cell_type": "code",
   "execution_count": 23,
   "id": "4445e580",
   "metadata": {},
   "outputs": [],
   "source": [
    "train['Building_Painted'] = train['Building_Painted'].replace({'N': 1, 'V':0})"
   ]
  },
  {
   "cell_type": "code",
   "execution_count": 24,
   "id": "9da33c39",
   "metadata": {},
   "outputs": [],
   "source": [
    "train['Building_Fenced'] = train['Building_Fenced'].replace({'N': 1, 'V':0})"
   ]
  },
  {
   "cell_type": "code",
   "execution_count": 25,
   "id": "3fdc3271",
   "metadata": {},
   "outputs": [],
   "source": [
    "train['Settlement'] = train['Settlement'].replace({'R': 1, 'U':0})"
   ]
  },
  {
   "cell_type": "code",
   "execution_count": 26,
   "id": "e5a37372",
   "metadata": {},
   "outputs": [],
   "source": [
    "train['NumberOfWindows'] = labE.fit_transform(train['NumberOfWindows'])"
   ]
  },
  {
   "cell_type": "code",
   "execution_count": 27,
   "id": "3dd1835a",
   "metadata": {},
   "outputs": [],
   "source": [
    "train['Geo_Code'] = labE.fit_transform(train['Geo_Code'])"
   ]
  },
  {
   "cell_type": "code",
   "execution_count": null,
   "id": "bf3043cc",
   "metadata": {},
   "outputs": [],
   "source": []
  },
  {
   "cell_type": "code",
   "execution_count": 28,
   "id": "b2e82b0a",
   "metadata": {},
   "outputs": [],
   "source": [
    "test['Building_Painted'] = test['Building_Painted'].replace({'N': 1, 'V':0})"
   ]
  },
  {
   "cell_type": "code",
   "execution_count": 29,
   "id": "2dabccad",
   "metadata": {},
   "outputs": [],
   "source": [
    "test['Building_Fenced'] = test['Building_Fenced'].replace({'N': 1, 'V':0})"
   ]
  },
  {
   "cell_type": "code",
   "execution_count": 30,
   "id": "ab63fc9b",
   "metadata": {},
   "outputs": [],
   "source": [
    "test['Settlement'] = test['Settlement'].replace({'R': 1, 'U':0})"
   ]
  },
  {
   "cell_type": "code",
   "execution_count": 31,
   "id": "2d3d850e",
   "metadata": {},
   "outputs": [],
   "source": [
    "test['NumberOfWindows'] = labE.fit_transform(test['NumberOfWindows'])"
   ]
  },
  {
   "cell_type": "code",
   "execution_count": 32,
   "id": "cc3d6b8e",
   "metadata": {},
   "outputs": [],
   "source": [
    "test['Geo_Code'] = labE.fit_transform(test['Geo_Code'])"
   ]
  },
  {
   "cell_type": "code",
   "execution_count": 33,
   "id": "244ced15",
   "metadata": {},
   "outputs": [
    {
     "name": "stdout",
     "output_type": "stream",
     "text": [
      "<class 'pandas.core.frame.DataFrame'>\n",
      "RangeIndex: 3069 entries, 0 to 3068\n",
      "Data columns (total 11 columns):\n",
      " #   Column              Non-Null Count  Dtype  \n",
      "---  ------              --------------  -----  \n",
      " 0   YearOfObservation   3069 non-null   int64  \n",
      " 1   Insured_Period      3069 non-null   float64\n",
      " 2   Residential         3069 non-null   int64  \n",
      " 3   Building_Painted    3069 non-null   int64  \n",
      " 4   Building_Fenced     3069 non-null   int64  \n",
      " 5   Settlement          3069 non-null   int64  \n",
      " 6   Building Dimension  3069 non-null   float64\n",
      " 7   Building_Type       3069 non-null   int64  \n",
      " 8   Date_of_Occupancy   3069 non-null   float64\n",
      " 9   NumberOfWindows     3069 non-null   int32  \n",
      " 10  Geo_Code            3069 non-null   int32  \n",
      "dtypes: float64(3), int32(2), int64(6)\n",
      "memory usage: 239.9 KB\n"
     ]
    }
   ],
   "source": [
    "test.info()"
   ]
  },
  {
   "cell_type": "code",
   "execution_count": 34,
   "id": "1d2aede7",
   "metadata": {},
   "outputs": [
    {
     "name": "stdout",
     "output_type": "stream",
     "text": [
      "<class 'pandas.core.frame.DataFrame'>\n",
      "RangeIndex: 7160 entries, 0 to 7159\n",
      "Data columns (total 12 columns):\n",
      " #   Column              Non-Null Count  Dtype  \n",
      "---  ------              --------------  -----  \n",
      " 0   YearOfObservation   7160 non-null   int64  \n",
      " 1   Insured_Period      7160 non-null   float64\n",
      " 2   Residential         7160 non-null   int64  \n",
      " 3   Building_Painted    7160 non-null   int64  \n",
      " 4   Building_Fenced     7160 non-null   int64  \n",
      " 5   Settlement          7160 non-null   int64  \n",
      " 6   Building Dimension  7160 non-null   float64\n",
      " 7   Building_Type       7160 non-null   int64  \n",
      " 8   Date_of_Occupancy   7160 non-null   float64\n",
      " 9   NumberOfWindows     7160 non-null   int32  \n",
      " 10  Geo_Code            7160 non-null   int32  \n",
      " 11  Claim               7160 non-null   int64  \n",
      "dtypes: float64(3), int32(2), int64(7)\n",
      "memory usage: 615.4 KB\n"
     ]
    }
   ],
   "source": [
    "train.info()"
   ]
  },
  {
   "cell_type": "markdown",
   "id": "1193d9cf",
   "metadata": {},
   "source": [
    "# SPLITING"
   ]
  },
  {
   "cell_type": "code",
   "execution_count": 35,
   "id": "c3f9d333",
   "metadata": {},
   "outputs": [],
   "source": [
    "X = train.drop('Claim', axis = 1)\n",
    "y = train['Claim']\n",
    "\n",
    "X_train, X_test, y_train, y_test = train_test_split(X, y, test_size = 0.2, random_state = 42)"
   ]
  },
  {
   "cell_type": "markdown",
   "id": "ba3bc741",
   "metadata": {},
   "source": [
    "# TRAINING MODEL"
   ]
  },
  {
   "cell_type": "code",
   "execution_count": 36,
   "id": "7f1190e3",
   "metadata": {},
   "outputs": [
    {
     "data": {
      "text/plain": [
       "LogisticRegression()"
      ]
     },
     "execution_count": 36,
     "metadata": {},
     "output_type": "execute_result"
    }
   ],
   "source": [
    "from sklearn.linear_model import LogisticRegression\n",
    "\n",
    "logm = LogisticRegression()\n",
    "\n",
    "logm.fit(X_train, y_train)"
   ]
  },
  {
   "cell_type": "code",
   "execution_count": 37,
   "id": "b00fdd4f",
   "metadata": {},
   "outputs": [
    {
     "data": {
      "text/plain": [
       "GaussianNB()"
      ]
     },
     "execution_count": 37,
     "metadata": {},
     "output_type": "execute_result"
    }
   ],
   "source": [
    "from sklearn.naive_bayes import GaussianNB\n",
    "\n",
    "nm = GaussianNB()\n",
    "\n",
    "nm.fit(X_train, y_train)"
   ]
  },
  {
   "cell_type": "code",
   "execution_count": 38,
   "id": "acbadec7",
   "metadata": {},
   "outputs": [
    {
     "data": {
      "text/plain": [
       "RandomForestClassifier()"
      ]
     },
     "execution_count": 38,
     "metadata": {},
     "output_type": "execute_result"
    }
   ],
   "source": [
    "from sklearn.ensemble import RandomForestClassifier\n",
    "\n",
    "rfm = RandomForestClassifier()\n",
    "\n",
    "rfm.fit(X_train, y_train)"
   ]
  },
  {
   "cell_type": "code",
   "execution_count": 39,
   "id": "e95b6393",
   "metadata": {},
   "outputs": [
    {
     "data": {
      "text/plain": [
       "SVC()"
      ]
     },
     "execution_count": 39,
     "metadata": {},
     "output_type": "execute_result"
    }
   ],
   "source": [
    "from sklearn.svm import SVC\n",
    "\n",
    "svm = SVC()\n",
    "\n",
    "svm.fit(X_train, y_train)"
   ]
  },
  {
   "cell_type": "code",
   "execution_count": 40,
   "id": "f878f5d4",
   "metadata": {},
   "outputs": [
    {
     "data": {
      "text/plain": [
       "KNeighborsClassifier()"
      ]
     },
     "execution_count": 40,
     "metadata": {},
     "output_type": "execute_result"
    }
   ],
   "source": [
    "from sklearn.neighbors import KNeighborsClassifier\n",
    "\n",
    "knc = KNeighborsClassifier()\n",
    "\n",
    "knc.fit(X_train, y_train)"
   ]
  },
  {
   "cell_type": "code",
   "execution_count": 41,
   "id": "82bf68e8",
   "metadata": {},
   "outputs": [
    {
     "data": {
      "text/plain": [
       "DecisionTreeClassifier()"
      ]
     },
     "execution_count": 41,
     "metadata": {},
     "output_type": "execute_result"
    }
   ],
   "source": [
    "from sklearn.tree import DecisionTreeClassifier\n",
    "\n",
    "dtc = DecisionTreeClassifier()\n",
    "\n",
    "dtc.fit(X_train, y_train)"
   ]
  },
  {
   "cell_type": "code",
   "execution_count": 42,
   "id": "9113792b",
   "metadata": {},
   "outputs": [
    {
     "data": {
      "text/plain": [
       "GradientBoostingClassifier()"
      ]
     },
     "execution_count": 42,
     "metadata": {},
     "output_type": "execute_result"
    }
   ],
   "source": [
    "from sklearn.ensemble import GradientBoostingClassifier\n",
    "\n",
    "gbc = GradientBoostingClassifier()\n",
    "\n",
    "gbc.fit(X_train, y_train)"
   ]
  },
  {
   "cell_type": "code",
   "execution_count": null,
   "id": "d90ec679",
   "metadata": {},
   "outputs": [],
   "source": []
  },
  {
   "cell_type": "code",
   "execution_count": 43,
   "id": "5d0ad1d4",
   "metadata": {},
   "outputs": [],
   "source": [
    "log_prediction = logm.predict(X_test)\n",
    "nm_prediction = nm.predict(X_test)\n",
    "rfm_prediction = rfm.predict(X_test)\n",
    "svm_prediction = svm.predict(X_test)\n",
    "knc_prediction = knc.predict(X_test)\n",
    "dtc_prediction = dtc.predict(X_test)\n",
    "gbc_prediction = gbc.predict(X_test)\n",
    "\n",
    "from sklearn.metrics import accuracy_score"
   ]
  },
  {
   "cell_type": "code",
   "execution_count": 44,
   "id": "7033c5bb",
   "metadata": {},
   "outputs": [
    {
     "data": {
      "text/plain": [
       "78.0027932960894"
      ]
     },
     "execution_count": 44,
     "metadata": {},
     "output_type": "execute_result"
    }
   ],
   "source": [
    "accuracy_score(y_test, log_prediction)*100"
   ]
  },
  {
   "cell_type": "code",
   "execution_count": 45,
   "id": "321051f1",
   "metadata": {},
   "outputs": [
    {
     "data": {
      "text/plain": [
       "76.8854748603352"
      ]
     },
     "execution_count": 45,
     "metadata": {},
     "output_type": "execute_result"
    }
   ],
   "source": [
    "accuracy_score(y_test, nm_prediction)*100"
   ]
  },
  {
   "cell_type": "code",
   "execution_count": 46,
   "id": "d5001a5b",
   "metadata": {},
   "outputs": [
    {
     "data": {
      "text/plain": [
       "77.44413407821229"
      ]
     },
     "execution_count": 46,
     "metadata": {},
     "output_type": "execute_result"
    }
   ],
   "source": [
    "accuracy_score(y_test, rfm_prediction)*100"
   ]
  },
  {
   "cell_type": "code",
   "execution_count": 47,
   "id": "c8c188e8",
   "metadata": {},
   "outputs": [
    {
     "data": {
      "text/plain": [
       "77.23463687150837"
      ]
     },
     "execution_count": 47,
     "metadata": {},
     "output_type": "execute_result"
    }
   ],
   "source": [
    "accuracy_score(y_test, svm_prediction)*100"
   ]
  },
  {
   "cell_type": "code",
   "execution_count": 48,
   "id": "8df9818a",
   "metadata": {},
   "outputs": [
    {
     "data": {
      "text/plain": [
       "75.06983240223464"
      ]
     },
     "execution_count": 48,
     "metadata": {},
     "output_type": "execute_result"
    }
   ],
   "source": [
    "accuracy_score(y_test, knc_prediction)*100"
   ]
  },
  {
   "cell_type": "code",
   "execution_count": 49,
   "id": "940f6c05",
   "metadata": {},
   "outputs": [
    {
     "data": {
      "text/plain": [
       "68.08659217877096"
      ]
     },
     "execution_count": 49,
     "metadata": {},
     "output_type": "execute_result"
    }
   ],
   "source": [
    "accuracy_score(y_test, dtc_prediction)*100"
   ]
  },
  {
   "cell_type": "code",
   "execution_count": 50,
   "id": "5b9f64c9",
   "metadata": {},
   "outputs": [
    {
     "data": {
      "text/plain": [
       "78.28212290502793"
      ]
     },
     "execution_count": 50,
     "metadata": {},
     "output_type": "execute_result"
    }
   ],
   "source": [
    "accuracy_score(y_test, gbc_prediction)*100"
   ]
  },
  {
   "cell_type": "code",
   "execution_count": 51,
   "id": "3dc6dcd5",
   "metadata": {},
   "outputs": [
    {
     "data": {
      "text/plain": [
       "array([0, 0, 0, ..., 0, 0, 0], dtype=int64)"
      ]
     },
     "execution_count": 51,
     "metadata": {},
     "output_type": "execute_result"
    }
   ],
   "source": [
    "gba = gbc.predict(test)\n",
    "gba"
   ]
  },
  {
   "cell_type": "code",
   "execution_count": 52,
   "id": "d506892b",
   "metadata": {},
   "outputs": [
    {
     "data": {
      "text/html": [
       "<div>\n",
       "<style scoped>\n",
       "    .dataframe tbody tr th:only-of-type {\n",
       "        vertical-align: middle;\n",
       "    }\n",
       "\n",
       "    .dataframe tbody tr th {\n",
       "        vertical-align: top;\n",
       "    }\n",
       "\n",
       "    .dataframe thead th {\n",
       "        text-align: right;\n",
       "    }\n",
       "</style>\n",
       "<table border=\"1\" class=\"dataframe\">\n",
       "  <thead>\n",
       "    <tr style=\"text-align: right;\">\n",
       "      <th></th>\n",
       "      <th>Customer Id</th>\n",
       "      <th>Claim</th>\n",
       "    </tr>\n",
       "  </thead>\n",
       "  <tbody>\n",
       "    <tr>\n",
       "      <th>0</th>\n",
       "      <td>H0</td>\n",
       "      <td>1</td>\n",
       "    </tr>\n",
       "    <tr>\n",
       "      <th>1</th>\n",
       "      <td>H10000</td>\n",
       "      <td>1</td>\n",
       "    </tr>\n",
       "    <tr>\n",
       "      <th>2</th>\n",
       "      <td>H10001</td>\n",
       "      <td>1</td>\n",
       "    </tr>\n",
       "    <tr>\n",
       "      <th>3</th>\n",
       "      <td>H10002</td>\n",
       "      <td>1</td>\n",
       "    </tr>\n",
       "    <tr>\n",
       "      <th>4</th>\n",
       "      <td>H10003</td>\n",
       "      <td>1</td>\n",
       "    </tr>\n",
       "  </tbody>\n",
       "</table>\n",
       "</div>"
      ],
      "text/plain": [
       "  Customer Id  Claim\n",
       "0          H0      1\n",
       "1      H10000      1\n",
       "2      H10001      1\n",
       "3      H10002      1\n",
       "4      H10003      1"
      ]
     },
     "execution_count": 52,
     "metadata": {},
     "output_type": "execute_result"
    }
   ],
   "source": [
    "ss.head()"
   ]
  },
  {
   "cell_type": "code",
   "execution_count": 53,
   "id": "0dff986d",
   "metadata": {},
   "outputs": [],
   "source": [
    "test1 = pd.read_csv('test_data.csv')"
   ]
  },
  {
   "cell_type": "code",
   "execution_count": 55,
   "id": "e3affa31",
   "metadata": {},
   "outputs": [],
   "source": [
    "Final = pd.DataFrame({'Customer Id': test1['Customer Id'], 'Claim': gba})"
   ]
  },
  {
   "cell_type": "code",
   "execution_count": 56,
   "id": "fdc05afd",
   "metadata": {},
   "outputs": [
    {
     "data": {
      "text/html": [
       "<div>\n",
       "<style scoped>\n",
       "    .dataframe tbody tr th:only-of-type {\n",
       "        vertical-align: middle;\n",
       "    }\n",
       "\n",
       "    .dataframe tbody tr th {\n",
       "        vertical-align: top;\n",
       "    }\n",
       "\n",
       "    .dataframe thead th {\n",
       "        text-align: right;\n",
       "    }\n",
       "</style>\n",
       "<table border=\"1\" class=\"dataframe\">\n",
       "  <thead>\n",
       "    <tr style=\"text-align: right;\">\n",
       "      <th></th>\n",
       "      <th>Customer Id</th>\n",
       "      <th>Claim</th>\n",
       "    </tr>\n",
       "  </thead>\n",
       "  <tbody>\n",
       "    <tr>\n",
       "      <th>0</th>\n",
       "      <td>H11920</td>\n",
       "      <td>0</td>\n",
       "    </tr>\n",
       "    <tr>\n",
       "      <th>1</th>\n",
       "      <td>H11921</td>\n",
       "      <td>0</td>\n",
       "    </tr>\n",
       "    <tr>\n",
       "      <th>2</th>\n",
       "      <td>H9805</td>\n",
       "      <td>0</td>\n",
       "    </tr>\n",
       "    <tr>\n",
       "      <th>3</th>\n",
       "      <td>H7493</td>\n",
       "      <td>0</td>\n",
       "    </tr>\n",
       "    <tr>\n",
       "      <th>4</th>\n",
       "      <td>H7494</td>\n",
       "      <td>0</td>\n",
       "    </tr>\n",
       "    <tr>\n",
       "      <th>...</th>\n",
       "      <td>...</td>\n",
       "      <td>...</td>\n",
       "    </tr>\n",
       "    <tr>\n",
       "      <th>3064</th>\n",
       "      <td>H11583</td>\n",
       "      <td>0</td>\n",
       "    </tr>\n",
       "    <tr>\n",
       "      <th>3065</th>\n",
       "      <td>H11720</td>\n",
       "      <td>0</td>\n",
       "    </tr>\n",
       "    <tr>\n",
       "      <th>3066</th>\n",
       "      <td>H11721</td>\n",
       "      <td>0</td>\n",
       "    </tr>\n",
       "    <tr>\n",
       "      <th>3067</th>\n",
       "      <td>H12408</td>\n",
       "      <td>0</td>\n",
       "    </tr>\n",
       "    <tr>\n",
       "      <th>3068</th>\n",
       "      <td>H9021</td>\n",
       "      <td>0</td>\n",
       "    </tr>\n",
       "  </tbody>\n",
       "</table>\n",
       "<p>3069 rows × 2 columns</p>\n",
       "</div>"
      ],
      "text/plain": [
       "     Customer Id  Claim\n",
       "0         H11920      0\n",
       "1         H11921      0\n",
       "2          H9805      0\n",
       "3          H7493      0\n",
       "4          H7494      0\n",
       "...          ...    ...\n",
       "3064      H11583      0\n",
       "3065      H11720      0\n",
       "3066      H11721      0\n",
       "3067      H12408      0\n",
       "3068       H9021      0\n",
       "\n",
       "[3069 rows x 2 columns]"
      ]
     },
     "execution_count": 56,
     "metadata": {},
     "output_type": "execute_result"
    }
   ],
   "source": [
    "Final"
   ]
  },
  {
   "cell_type": "code",
   "execution_count": 57,
   "id": "580d0e8d",
   "metadata": {},
   "outputs": [],
   "source": [
    "Final.to_csv('my prediction.csv', index = False)"
   ]
  },
  {
   "cell_type": "code",
   "execution_count": 58,
   "id": "13754a52",
   "metadata": {},
   "outputs": [
    {
     "data": {
      "text/html": [
       "<div>\n",
       "<style scoped>\n",
       "    .dataframe tbody tr th:only-of-type {\n",
       "        vertical-align: middle;\n",
       "    }\n",
       "\n",
       "    .dataframe tbody tr th {\n",
       "        vertical-align: top;\n",
       "    }\n",
       "\n",
       "    .dataframe thead th {\n",
       "        text-align: right;\n",
       "    }\n",
       "</style>\n",
       "<table border=\"1\" class=\"dataframe\">\n",
       "  <thead>\n",
       "    <tr style=\"text-align: right;\">\n",
       "      <th></th>\n",
       "      <th>Customer Id</th>\n",
       "      <th>Claim</th>\n",
       "    </tr>\n",
       "  </thead>\n",
       "  <tbody>\n",
       "    <tr>\n",
       "      <th>0</th>\n",
       "      <td>H11920</td>\n",
       "      <td>0</td>\n",
       "    </tr>\n",
       "    <tr>\n",
       "      <th>1</th>\n",
       "      <td>H11921</td>\n",
       "      <td>0</td>\n",
       "    </tr>\n",
       "    <tr>\n",
       "      <th>2</th>\n",
       "      <td>H9805</td>\n",
       "      <td>0</td>\n",
       "    </tr>\n",
       "    <tr>\n",
       "      <th>3</th>\n",
       "      <td>H7493</td>\n",
       "      <td>0</td>\n",
       "    </tr>\n",
       "    <tr>\n",
       "      <th>4</th>\n",
       "      <td>H7494</td>\n",
       "      <td>0</td>\n",
       "    </tr>\n",
       "    <tr>\n",
       "      <th>...</th>\n",
       "      <td>...</td>\n",
       "      <td>...</td>\n",
       "    </tr>\n",
       "    <tr>\n",
       "      <th>3064</th>\n",
       "      <td>H11583</td>\n",
       "      <td>0</td>\n",
       "    </tr>\n",
       "    <tr>\n",
       "      <th>3065</th>\n",
       "      <td>H11720</td>\n",
       "      <td>0</td>\n",
       "    </tr>\n",
       "    <tr>\n",
       "      <th>3066</th>\n",
       "      <td>H11721</td>\n",
       "      <td>0</td>\n",
       "    </tr>\n",
       "    <tr>\n",
       "      <th>3067</th>\n",
       "      <td>H12408</td>\n",
       "      <td>0</td>\n",
       "    </tr>\n",
       "    <tr>\n",
       "      <th>3068</th>\n",
       "      <td>H9021</td>\n",
       "      <td>0</td>\n",
       "    </tr>\n",
       "  </tbody>\n",
       "</table>\n",
       "<p>3069 rows × 2 columns</p>\n",
       "</div>"
      ],
      "text/plain": [
       "     Customer Id  Claim\n",
       "0         H11920      0\n",
       "1         H11921      0\n",
       "2          H9805      0\n",
       "3          H7493      0\n",
       "4          H7494      0\n",
       "...          ...    ...\n",
       "3064      H11583      0\n",
       "3065      H11720      0\n",
       "3066      H11721      0\n",
       "3067      H12408      0\n",
       "3068       H9021      0\n",
       "\n",
       "[3069 rows x 2 columns]"
      ]
     },
     "execution_count": 58,
     "metadata": {},
     "output_type": "execute_result"
    }
   ],
   "source": [
    "Final"
   ]
  },
  {
   "cell_type": "code",
   "execution_count": 59,
   "id": "ffc7c9d0",
   "metadata": {},
   "outputs": [],
   "source": [
    "import pickle"
   ]
  },
  {
   "cell_type": "code",
   "execution_count": 60,
   "id": "caee46ac",
   "metadata": {},
   "outputs": [],
   "source": [
    "filename = 'insurance_prediction.sav'"
   ]
  },
  {
   "cell_type": "code",
   "execution_count": 61,
   "id": "bba1103b",
   "metadata": {},
   "outputs": [],
   "source": [
    "pickle.dump(gbc, open(filename, 'wb'))"
   ]
  },
  {
   "cell_type": "code",
   "execution_count": 62,
   "id": "916b67fc",
   "metadata": {},
   "outputs": [
    {
     "data": {
      "text/plain": [
       "'insurance_prediction.sav'"
      ]
     },
     "execution_count": 62,
     "metadata": {},
     "output_type": "execute_result"
    }
   ],
   "source": [
    "filename\n"
   ]
  },
  {
   "cell_type": "code",
   "execution_count": 63,
   "id": "ca363cee",
   "metadata": {},
   "outputs": [],
   "source": [
    "train1 = pd.read_csv('train_data.csv')"
   ]
  },
  {
   "cell_type": "code",
   "execution_count": 64,
   "id": "57320c97",
   "metadata": {},
   "outputs": [
    {
     "data": {
      "text/plain": [
       "6088     143\n",
       "33063    137\n",
       "6083     113\n",
       "13206     98\n",
       "31555     87\n",
       "        ... \n",
       "59650      1\n",
       "59656      1\n",
       "60057      1\n",
       "60172      1\n",
       "2B353      1\n",
       "Name: Geo_Code, Length: 1307, dtype: int64"
      ]
     },
     "execution_count": 64,
     "metadata": {},
     "output_type": "execute_result"
    }
   ],
   "source": [
    "train1['Geo_Code'].value_counts()"
   ]
  },
  {
   "cell_type": "code",
   "execution_count": null,
   "id": "bc2a0b8f",
   "metadata": {},
   "outputs": [],
   "source": []
  }
 ],
 "metadata": {
  "kernelspec": {
   "display_name": "Python 3 (ipykernel)",
   "language": "python",
   "name": "python3"
  },
  "language_info": {
   "codemirror_mode": {
    "name": "ipython",
    "version": 3
   },
   "file_extension": ".py",
   "mimetype": "text/x-python",
   "name": "python",
   "nbconvert_exporter": "python",
   "pygments_lexer": "ipython3",
   "version": "3.9.12"
  }
 },
 "nbformat": 4,
 "nbformat_minor": 5
}
